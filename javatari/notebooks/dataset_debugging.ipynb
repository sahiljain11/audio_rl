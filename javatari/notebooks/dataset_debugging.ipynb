{
 "cells": [
  {
   "cell_type": "code",
   "execution_count": 1,
   "metadata": {
    "collapsed": true
   },
   "outputs": [],
   "source": [
    "from agc.dataset import AtariDataset\n",
    "import numpy as np\n",
    "from os import path, listdir, remove\n",
    "import cv2\n",
    "from matplotlib import pyplot as plt\n",
    "from shutil import copyfile, rmtree, move\n",
    "\n",
    "%matplotlib inline"
   ]
  },
  {
   "cell_type": "code",
   "execution_count": 3,
   "metadata": {
    "collapsed": true
   },
   "outputs": [],
   "source": [
    "DATASET_PATH = '/media/HDD1/data/atari_v2/atari_v2_release/'\n",
    "SCREENS_PATH = path.join(DATASET_PATH, 'screens')\n",
    "TRAJS_PATH = path.join(DATASET_PATH, 'trajectories')"
   ]
  },
  {
   "cell_type": "code",
   "execution_count": 70,
   "metadata": {
    "collapsed": false
   },
   "outputs": [],
   "source": [
    "dataset = AtariDataset(DATASET_PATH)"
   ]
  },
  {
   "cell_type": "code",
   "execution_count": 61,
   "metadata": {
    "collapsed": true
   },
   "outputs": [],
   "source": [
    "def remove_traj_from_data(traj_path):\n",
    "    '''Be careful! This will permanently remove the trajectory and its screenshots'''\n",
    "    print('Removing %s and its screens' % traj_path)\n",
    "    #conver traj path into screen path\n",
    "    split_path = traj_path.split('/')\n",
    "    traj_number = split_path[-1].split('.')[0]\n",
    "    game_name = split_path[-2]\n",
    "    screen_folder = path.join(SCREENS_PATH, game_name, traj_number)\n",
    "    \n",
    "    #remove the traj file\n",
    "    remove(traj_path)\n",
    "    \n",
    "    #remove the screens\n",
    "    rmtree(screen_folder)"
   ]
  },
  {
   "cell_type": "code",
   "execution_count": 63,
   "metadata": {
    "collapsed": false
   },
   "outputs": [
    {
     "name": "stdout",
     "output_type": "stream",
     "text": [
      "DONE\n"
     ]
    }
   ],
   "source": [
    "# the replay process was interrupted several time\n",
    "# just to be sure, that we do not have the duplicated trajectories\n",
    "# first line has the db unique id of the traj\n",
    "# this should be also unique in the dataset\n",
    "db_ids = {}\n",
    "\n",
    "for g in listdir(TRAJS_PATH):\n",
    "    trdir = path.join(TRAJS_PATH, g)\n",
    "    for t in listdir(trdir):\n",
    "        traj_path = path.join(trdir, t)\n",
    "        with open(traj_path, 'r') as f:\n",
    "            lines = f.readlines()\n",
    "            db_id = int(lines[0].split()[-1])\n",
    "            if db_id not in db_ids.keys():\n",
    "                db_ids[db_id] = []    \n",
    "            db_ids[db_id].append(traj_path)\n",
    "\n",
    "# uncomment to delete\n",
    "# for i in db_ids:\n",
    "#     if len(db_ids[i]) > 1:\n",
    "#         # leave the first and remove the others\n",
    "#         for tr in db_ids[i][1:]:\n",
    "#             remove_traj_from_data(tr)\n",
    "        \n",
    "print('DONE') \n"
   ]
  },
  {
   "cell_type": "code",
   "execution_count": 71,
   "metadata": {
    "collapsed": false
   },
   "outputs": [],
   "source": [
    "suspicious_trajs = []\n",
    "\n",
    "for g in dataset.trajectories:\n",
    "    trajs = dataset.trajectories[g]\n",
    "    first_frames_scores = []\n",
    "    ctr = 0\n",
    "    for t in trajs:\n",
    "        # 2 is for score  \n",
    "        scores = [trajs[t][fr]['score'] for fr in range(10)]\n",
    "        if np.sum(scores) > ctr:\n",
    "            suspicious_trajs.append((g,t,scores))\n",
    "\n",
    "# uncomment to remove\n",
    "for t in suspicious_trajs:\n",
    "    print(t)\n",
    "    #tpath = path.join(TRAJS_PATH, t[0], str(t[1]) + '.txt')\n",
    "    #remove_traj_from_data(tpath)"
   ]
  },
  {
   "cell_type": "code",
   "execution_count": 114,
   "metadata": {
    "collapsed": false
   },
   "outputs": [
    {
     "name": "stdout",
     "output_type": "stream",
     "text": [
      "DONE\n"
     ]
    }
   ],
   "source": [
    "#fix replay bug (less pics than trajectories)\n",
    "#pic numbering is from 1, traj steps from 0\n",
    "#fixed in the webapp code already, but need to fix here not to replay again\n",
    "\n",
    "# for g in listdir(SCREENS_PATH):\n",
    "#     gdir = path.join(SCREENS_PATH, g)\n",
    "#     for t in listdir(gdir):\n",
    "#         #get int file names\n",
    "#         dir_files = listdir(path.join(gdir, t))\n",
    "#         dir_files.sort(key=lambda f: int(f.split('.')[0]))\n",
    "#         #note, that without sort, this method will make a mess\n",
    "#         for f in dir_files:\n",
    "#             new_fname = str(int(f.split('.')[0]) - 1) + '.png'\n",
    "#             move(path.join(gdir, t, f), path.join(gdir, t, new_fname))\n",
    "# print('DONE')"
   ]
  },
  {
   "cell_type": "code",
   "execution_count": 123,
   "metadata": {
    "collapsed": false
   },
   "outputs": [
    {
     "name": "stdout",
     "output_type": "stream",
     "text": [
      "DONE\n"
     ]
    }
   ],
   "source": [
    "ctr = 0\n",
    "for g in listdir(SCREENS_PATH):\n",
    "    gdir = path.join(SCREENS_PATH, g)\n",
    "    for t in listdir(gdir):\n",
    "        n_pics = len(listdir(path.join(gdir,t)))\n",
    "        #check traj len now\n",
    "        traj_path = path.join(TRAJS_PATH, g, t + '.txt')\n",
    "        with open(traj_path, 'r') as f:\n",
    "            lines = f.readlines()\n",
    "        \n",
    "        # 2 is for first two metadata lines\n",
    "        if len(lines) < n_pics + 2: \n",
    "            print('OOPS, less data than needed for %s' % traj_path)\n",
    "            print(n_pics, len(lines))\n",
    "            assert False, \"you should not be here\"\n",
    "           \n",
    "        if len(lines) > n_pics + 2:\n",
    "            #this is due to initial code collection bug\n",
    "            #when we did not reset part of the env\n",
    "            with open(traj_path, 'w') as f:\n",
    "                f.writelines(lines[:n_pics + 2])\n",
    "        \n",
    "print('DONE') "
   ]
  },
  {
   "cell_type": "code",
   "execution_count": 6,
   "metadata": {
    "collapsed": false
   },
   "outputs": [
    {
     "name": "stdout",
     "output_type": "stream",
     "text": [
      "spaceinvaders/172\n",
      "spaceinvaders/260\n",
      "spaceinvaders/991\n",
      "spaceinvaders/821\n",
      "spaceinvaders/255\n",
      "spaceinvaders/174\n",
      "spaceinvaders/164\n",
      "spaceinvaders/347\n",
      "spaceinvaders/10\n",
      "spaceinvaders/261\n",
      "spaceinvaders/286\n",
      "spaceinvaders/298\n",
      "spaceinvaders/169\n",
      "spaceinvaders/1029\n",
      "spaceinvaders/175\n",
      "spaceinvaders/114\n",
      "spaceinvaders/486\n",
      "spaceinvaders/974\n",
      "spaceinvaders/168\n",
      "spaceinvaders/170\n",
      "spaceinvaders/487\n",
      "spaceinvaders/173\n",
      "spaceinvaders/479\n",
      "spaceinvaders/171\n",
      "spaceinvaders/166\n",
      "spaceinvaders/485\n",
      "qbert/766\n",
      "qbert/1738\n",
      "qbert/1800\n",
      "qbert/763\n",
      "qbert/1736\n",
      "qbert/759\n",
      "qbert/1792\n",
      "qbert/761\n",
      "qbert/765\n",
      "qbert/1799\n",
      "qbert/762\n",
      "qbert/1739\n",
      "qbert/1737\n",
      "qbert/1798\n",
      "qbert/758\n",
      "qbert/760\n",
      "qbert/1735\n",
      "revenge/2635\n",
      "revenge/2358\n",
      "revenge/2632\n",
      "revenge/725\n",
      "revenge/14\n",
      "revenge/971\n",
      "revenge/2618\n",
      "revenge/2617\n",
      "revenge/1781\n",
      "revenge/2521\n",
      "revenge/2648\n",
      "revenge/728\n",
      "revenge/852\n",
      "revenge/2495\n",
      "revenge/2649\n",
      "revenge/2625\n",
      "revenge/2642\n",
      "revenge/917\n",
      "revenge/2623\n",
      "revenge/2498\n",
      "revenge/2636\n",
      "revenge/2633\n",
      "revenge/2631\n",
      "revenge/2640\n",
      "revenge/2531\n",
      "revenge/2622\n",
      "revenge/721\n",
      "revenge/2645\n",
      "revenge/2639\n",
      "revenge/816\n",
      "revenge/2646\n",
      "revenge/2515\n",
      "revenge/2499\n",
      "revenge/970\n",
      "revenge/22\n",
      "revenge/831\n",
      "revenge/2647\n",
      "revenge/856\n",
      "revenge/968\n",
      "revenge/2520\n",
      "revenge/2637\n",
      "revenge/2511\n",
      "revenge/853\n",
      "revenge/2624\n",
      "revenge/2530\n",
      "revenge/2638\n",
      "revenge/2529\n",
      "revenge/858\n",
      "revenge/2616\n",
      "revenge/2500\n",
      "revenge/2681\n",
      "revenge/2644\n",
      "pinball/567\n",
      "pinball/595\n",
      "pinball/566\n",
      "pinball/242\n",
      "mspacman/50\n",
      "mspacman/956\n",
      "DONE\n"
     ]
    }
   ],
   "source": [
    "# remove final score zero trajectories\n",
    "\n",
    "to_delete = []\n",
    "\n",
    "for g in listdir(SCREENS_PATH):\n",
    "    gdir = path.join(SCREENS_PATH, g)\n",
    "    for t in listdir(gdir):\n",
    "        traj_path = path.join(TRAJS_PATH, g, t + '.txt')\n",
    "        with open(traj_path, 'r') as f:\n",
    "            lines = f.readlines()\n",
    "            final_line = lines[-1]\n",
    "            final_score = int(final_line.split(',')[2])\n",
    "            if final_score < 0:\n",
    "                print('WTF')\n",
    "            if final_score == 0:\n",
    "                to_delete.append(path.join(g, t))\n",
    "\n",
    "for t in to_delete:\n",
    "    print(t)\n",
    "    # remove traj\n",
    "    remove(path.join(TRAJS_PATH, t + '.txt'))\n",
    "    #remove screen folder for this traj\n",
    "    rmtree(path.join(SCREENS_PATH, t))\n",
    "print('DONE')"
   ]
  }
 ],
 "metadata": {
  "kernelspec": {
   "display_name": "Python 3",
   "language": "python",
   "name": "python3"
  },
  "language_info": {
   "codemirror_mode": {
    "name": "ipython",
    "version": 3
   },
   "file_extension": ".py",
   "mimetype": "text/x-python",
   "name": "python",
   "nbconvert_exporter": "python",
   "pygments_lexer": "ipython3",
   "version": "3.5.2"
  }
 },
 "nbformat": 4,
 "nbformat_minor": 2
}
